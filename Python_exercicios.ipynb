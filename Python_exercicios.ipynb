{
  "nbformat": 4,
  "nbformat_minor": 0,
  "metadata": {
    "colab": {
      "provenance": [],
      "authorship_tag": "ABX9TyNQ5PPP8fX1D0CJWtSGXzwC",
      "include_colab_link": true
    },
    "kernelspec": {
      "name": "python3",
      "display_name": "Python 3"
    },
    "language_info": {
      "name": "python"
    }
  },
  "cells": [
    {
      "cell_type": "markdown",
      "metadata": {
        "id": "view-in-github",
        "colab_type": "text"
      },
      "source": [
        "<a href=\"https://colab.research.google.com/github/pedrogozzi/Ola-Mundo/blob/main/Python_exercicios.ipynb\" target=\"_parent\"><img src=\"https://colab.research.google.com/assets/colab-badge.svg\" alt=\"Open In Colab\"/></a>"
      ]
    },
    {
      "cell_type": "code",
      "execution_count": null,
      "metadata": {
        "colab": {
          "base_uri": "https://localhost:8080/"
        },
        "id": "EOnxW084cowe",
        "outputId": "2b2c1ba4-859b-4906-9d48-e7254a56af25"
      },
      "outputs": [
        {
          "output_type": "stream",
          "name": "stdout",
          "text": [
            "Digite um valor: 3.15\n",
            "O valor digitado foi 3.15 e sua porção inteira é 3.\n"
          ]
        }
      ],
      "source": [
        "import math\n",
        "num=float(input('Digite um valor: '))\n",
        "print('O valor digitado foi {} e sua porção inteira é {}.'.format(num,math.trunc(num)))"
      ]
    },
    {
      "cell_type": "markdown",
      "source": [],
      "metadata": {
        "id": "Fz4BMHc-dFA_"
      }
    },
    {
      "cell_type": "code",
      "source": [],
      "metadata": {
        "id": "_FKUppcS1_5S"
      },
      "execution_count": null,
      "outputs": []
    },
    {
      "cell_type": "code",
      "source": [],
      "metadata": {
        "id": "k1FZvS6vgpCw"
      },
      "execution_count": null,
      "outputs": []
    },
    {
      "cell_type": "code",
      "source": [
        "from math import trunc\n",
        "num=float(input('Digite um número: '))\n",
        "print('O valor digitado foi {} e sua porção inteiraa é {}'.format(num,trunc(num)))"
      ],
      "metadata": {
        "colab": {
          "base_uri": "https://localhost:8080/"
        },
        "id": "ny5mSz5yif4h",
        "outputId": "2261c64b-0991-4abd-bea3-a652ca17e22f"
      },
      "execution_count": null,
      "outputs": [
        {
          "output_type": "stream",
          "name": "stdout",
          "text": [
            "Digite um número: 3.15\n",
            "O valor digitado foi 3.15 e sua porção inteiraa é 3\n"
          ]
        }
      ]
    },
    {
      "cell_type": "code",
      "source": [
        "a=float(input('Cateto a é igual a '))\n",
        "b=float(input('Cateto b é igual a '))\n",
        "c=((a**2)+(b**2))**(1/2)\n",
        "print(c)"
      ],
      "metadata": {
        "colab": {
          "base_uri": "https://localhost:8080/"
        },
        "id": "gP-sFWCOipfx",
        "outputId": "0cd6ae4c-2676-4c0f-ae29-1a9af0ab7fcf"
      },
      "execution_count": null,
      "outputs": [
        {
          "output_type": "stream",
          "name": "stdout",
          "text": [
            "Cateto a é igual a 3\n",
            "Cateto b é igual a 4\n",
            "5.0\n"
          ]
        }
      ]
    },
    {
      "cell_type": "code",
      "source": [
        "import math\n",
        "a=float(input('Cateto a é igual a '))\n",
        "b=float(input('Cateto b é igual a '))\n",
        "c=math.hypot(a,b)\n",
        "print('A hipo é {}'.format(c))"
      ],
      "metadata": {
        "colab": {
          "base_uri": "https://localhost:8080/"
        },
        "id": "aPplmSt-oBdz",
        "outputId": "99c8ee2f-b837-4520-d74b-aad4b19a52d0"
      },
      "execution_count": null,
      "outputs": [
        {
          "output_type": "stream",
          "name": "stdout",
          "text": [
            "Cateto a é igual a 3\n",
            "Cateto b é igual a 4\n",
            "A hipo é 5.0\n"
          ]
        }
      ]
    },
    {
      "cell_type": "code",
      "source": [
        "import math #from math import radians, sin, cos, tan\n",
        "angulo=float(input('Digite o ângulo: '))\n",
        "seno=math.sin(math.radians(angulo))\n",
        "print('O ângulo de {} tem o SENO de {:.2f}'.format(angulo,seno))\n",
        "cosseno=math.cos(math.radians(angulo))\n",
        "print('O ângulo de {} tem o cosseno de {:.2f}'.format(angulo,cosseno))\n",
        "tangente=math.tan(math.radians(angulo))\n",
        "print('O ângulo de {} tem a tangente de {:.2f}'.format(angulo,tangente))"
      ],
      "metadata": {
        "colab": {
          "base_uri": "https://localhost:8080/"
        },
        "id": "sQ9xshymrE_g",
        "outputId": "68f8790c-c479-4c3e-e328-0a6510f15f2b"
      },
      "execution_count": null,
      "outputs": [
        {
          "output_type": "stream",
          "name": "stdout",
          "text": [
            "Digite o ângulo: 30\n",
            "O ângulo de 30.0 tem o SENO de 0.50\n",
            "O ângulo de 30.0 tem o cosseno de 0.87\n",
            "O ângulo de 30.0 tem a tangente de 0.58\n"
          ]
        }
      ]
    },
    {
      "cell_type": "code",
      "source": [
        "import random\n",
        "n1=str(input('Primeiro aluno: '))\n",
        "n2=str(input('Segundo aluno: '))\n",
        "n3=str(input('Terceiro aluno: '))\n",
        "n4=str(input('Quarto aluno: '))\n",
        "lista = [n1,n2,n3,n4]\n",
        "escolhido = random.choice(lista)\n",
        "print('O aluno escolhido foi {}'.format(escolhido))"
      ],
      "metadata": {
        "colab": {
          "base_uri": "https://localhost:8080/"
        },
        "id": "vh1QSey9spqz",
        "outputId": "512996d2-f52c-4042-a1fe-97883ae2c301"
      },
      "execution_count": null,
      "outputs": [
        {
          "output_type": "stream",
          "name": "stdout",
          "text": [
            "Primeiro aluno: Joao\n",
            "Segundo aluno: fran\n",
            "Terceiro aluno: bi\n",
            "Quarto aluno: tri\n",
            "O aluno escolhido foi tri\n"
          ]
        }
      ]
    },
    {
      "cell_type": "code",
      "source": [
        "import random\n",
        "n1=str(input('Primeiro aluno: '))\n",
        "n2=str(input('Segundo aluno: '))\n",
        "n3=str(input('Terceiro aluno: '))\n",
        "n4=str(input('Quarto aluno: '))\n",
        "lista = [n1,n2,n3,n4]\n",
        "random.shuffle(lista)\n",
        "print('A ordem de apresentação será:')\n",
        "print(lista)"
      ],
      "metadata": {
        "colab": {
          "base_uri": "https://localhost:8080/"
        },
        "id": "U6VWYPbAuBeH",
        "outputId": "b7db1be9-17b1-4487-af61-19c5a1afd102"
      },
      "execution_count": null,
      "outputs": [
        {
          "output_type": "stream",
          "name": "stdout",
          "text": [
            "Primeiro aluno: a\n",
            "Segundo aluno: b\n",
            "Terceiro aluno: c.\n",
            "Quarto aluno: d\n",
            "A ordem de apresentação será:\n",
            "['d', 'a', 'c.', 'b']\n"
          ]
        }
      ]
    },
    {
      "cell_type": "markdown",
      "source": [
        "Análise \n",
        "frase.len - mostra quantas letras tem \n",
        "frase.count('o') - mostra quantos \"o\" tem na frase\n"
      ],
      "metadata": {
        "id": "i5oqcXu220J2"
      }
    },
    {
      "cell_type": "code",
      "source": [
        "frase=(\"Curso em Vídeo Python\")\n",
        "frase.lower\n",
        "print(frase)"
      ],
      "metadata": {
        "colab": {
          "base_uri": "https://localhost:8080/"
        },
        "id": "oBO17hU-3OwU",
        "outputId": "0ef7f6d8-b799-45f1-9b1f-e6b1be4119ca"
      },
      "execution_count": null,
      "outputs": [
        {
          "output_type": "stream",
          "name": "stdout",
          "text": [
            "Curso em Vídeo Python\n"
          ]
        }
      ]
    },
    {
      "cell_type": "code",
      "source": [
        "frase=\"Curso em Vídeo Python\"\n",
        "print(frase[::2])"
      ],
      "metadata": {
        "colab": {
          "base_uri": "https://localhost:8080/"
        },
        "id": "1pFFGuDhYXTv",
        "outputId": "128d2ed3-b323-491a-ef87-e204f1362a6e"
      },
      "execution_count": null,
      "outputs": [
        {
          "output_type": "stream",
          "name": "stdout",
          "text": [
            "Croe íe yhn\n"
          ]
        }
      ]
    },
    {
      "cell_type": "markdown",
      "source": [
        "Strings "
      ],
      "metadata": {
        "id": "EkF7geSDhwI6"
      }
    },
    {
      "cell_type": "code",
      "source": [
        "nome=str(input('Digite seu nome completo: ')).strip()\n",
        "print('Analisando seu nome...')\n",
        "print('Seu nome em maiúsculas é {}'.format(nome.upper()))\n",
        "print('Seu nome em minúsculas é {}'.format(nome.lower()))\n",
        "print('Seu nome tem {} letras'.format(len(nome)-nome.count(' ')))\n",
        "print('Seu primeiro nome tem {} letras'.format(nome.find(' ')))"
      ],
      "metadata": {
        "colab": {
          "base_uri": "https://localhost:8080/"
        },
        "id": "m5xAf6_UgquH",
        "outputId": "b0069a14-dc6b-4af2-b63a-72d64a8474ac"
      },
      "execution_count": null,
      "outputs": [
        {
          "output_type": "stream",
          "name": "stdout",
          "text": [
            "Digite seu nome completo:   Pedro Gozzi\n",
            "Analisando seu nome...\n",
            "Seu nome em maiúsculas é PEDRO GOZZI\n",
            "Seu nome em minúsculas é pedro gozzi\n",
            "Seu nome tem 10 letras\n",
            "Seu primeiro nome tem 5 letras\n"
          ]
        }
      ]
    },
    {
      "cell_type": "markdown",
      "source": [],
      "metadata": {
        "id": "22Gmpmjqgra5"
      }
    },
    {
      "cell_type": "code",
      "source": [
        "num=int(input('Informe um numero: '))\n",
        "n=str(num)\n",
        "print('Analisando o numero {}'.format(num))\n",
        "print('Unidade:{}'.format(n[3]))\n",
        "print('Dezena:{}'.format(n[2]))\n",
        "print('centena:{}'.format(n[1]))\n",
        "print('milhar: {}'.format(n[0]))"
      ],
      "metadata": {
        "colab": {
          "base_uri": "https://localhost:8080/"
        },
        "id": "H7F71iEHgpoj",
        "outputId": "57b5332b-d96f-47a1-ec59-b0a9bb986367"
      },
      "execution_count": null,
      "outputs": [
        {
          "output_type": "stream",
          "name": "stdout",
          "text": [
            "Informe um numero: 1234\n",
            "Analisando o numero 1234\n",
            "Unidade:4\n",
            "Dezena:3\n",
            "centena:2\n",
            "milhar: 1\n"
          ]
        }
      ]
    },
    {
      "cell_type": "code",
      "source": [
        "cid=str(input('Em qual cidade você nasceu? ')).strip()\n",
        "print(cid[:5].upper() == 'SANTO')"
      ],
      "metadata": {
        "colab": {
          "base_uri": "https://localhost:8080/"
        },
        "id": "gzZd1V1yi5rj",
        "outputId": "b2943867-ee50-40cd-bfc5-a33c40de7caa"
      },
      "execution_count": null,
      "outputs": [
        {
          "output_type": "stream",
          "name": "stdout",
          "text": [
            "Em qual cidade você nasceu? San\n",
            "False\n"
          ]
        }
      ]
    },
    {
      "cell_type": "code",
      "source": [
        "nome=str(input('Qual seu nome completo? ')).strip()\n",
        "print('Seu nome tem silva?{}'.format('silva' in nome.lower()))"
      ],
      "metadata": {
        "colab": {
          "base_uri": "https://localhost:8080/"
        },
        "id": "PE7TVR6ilHwu",
        "outputId": "04e2c71d-0aec-4db0-dd85-74d744b02588"
      },
      "execution_count": null,
      "outputs": [
        {
          "output_type": "stream",
          "name": "stdout",
          "text": [
            "Qual seu nome completo? Joâo da Silva\n",
            "Seu nome tem silva?True\n"
          ]
        }
      ]
    },
    {
      "cell_type": "code",
      "source": [
        "frase = str(input('Digite uma frase: ')).upper()\n",
        "letra = str(input('Digite uma letra: ')).upper()\n",
        "print('A letra '+letra+' aparece {} vezes na frase '.format(frase.count(letra)))\n",
        "print('A primeira letra '+letra+' aparece na posição {}'.format(frase.find(letra)+1))\n",
        "print('A última letra '+letra+' aparece na posição {}'.format(frase.rfind(letra)+1))"
      ],
      "metadata": {
        "id": "lvc-8Jhhoku7"
      },
      "execution_count": null,
      "outputs": []
    },
    {
      "cell_type": "code",
      "source": [
        "n = str(input('Digite seu nome completo: ')).strip()\n",
        "nome = n.split()\n",
        "print('Muito prazer em te conhecer!')\n",
        "print('Seu primeiro nome é {}'.format(nome[0]))\n",
        "print('Seu primeiro nome é {}'.format(nome[len(nome)-1]))\n"
      ],
      "metadata": {
        "id": "ALhYB3q0qmAK"
      },
      "execution_count": null,
      "outputs": []
    },
    {
      "cell_type": "code",
      "source": [
        "def my_function(fname):\n",
        "  print(fname + \" Refsnes\")\n",
        "\n",
        "my_function(\"Emil\")\n",
        "my_function(\"Tobias\")\n",
        "my_function(\"Linus\")\n",
        "my_function('Teste')"
      ],
      "metadata": {
        "colab": {
          "base_uri": "https://localhost:8080/"
        },
        "id": "53afpCK7j9Ln",
        "outputId": "9a363c36-64d9-49ab-9f0e-843039db1bf4"
      },
      "execution_count": null,
      "outputs": [
        {
          "output_type": "stream",
          "name": "stdout",
          "text": [
            "Emil Refsnes\n",
            "Tobias Refsnes\n",
            "Linus Refsnes\n",
            "Teste Refsnes\n"
          ]
        }
      ]
    },
    {
      "cell_type": "code",
      "source": [
        "#Exercício 032 - Ano bissexto\n",
        "ano=int(input('Que ano quer analisar ? '))\n",
        "if ano % 4 == 0 and ano % 100 != 0 or ano % 400 == 0:\n",
        "  print('Ano é Bissexto')\n",
        "else:\n",
        "  print('O ano não é Bissexto')"
      ],
      "metadata": {
        "colab": {
          "base_uri": "https://localhost:8080/"
        },
        "id": "KQTo7jRZ2BtI",
        "outputId": "320f261c-99bf-4bc1-94da-bb4df3604f90"
      },
      "execution_count": null,
      "outputs": [
        {
          "output_type": "stream",
          "name": "stdout",
          "text": [
            "Que ano quer analisar ? 2000\n",
            "Ano é Bissexto\n"
          ]
        }
      ]
    },
    {
      "cell_type": "code",
      "source": [
        "#Exercício 032 - Ano bissexto\n",
        "from datetime import date\n",
        "ano = int(input('Que ano quer analisar? Coloque 0 para analisar o ano atual: '))\n",
        "if ano == 0:\n",
        "  ano = date.today().year\n",
        "if ano % 4 == 0 and ano % 100 != 0 or ano % 400 == 0:\n",
        "  print('O ano {} é BISSEXTO'.format(ano))\n",
        "else:\n",
        "  print('O ano {} NÃO é BISSEXTO'.format(ano))"
      ],
      "metadata": {
        "colab": {
          "base_uri": "https://localhost:8080/"
        },
        "id": "h1FcOBVc3dpm",
        "outputId": "7ece1709-305f-4157-aa8b-5983e2032484"
      },
      "execution_count": null,
      "outputs": [
        {
          "output_type": "stream",
          "name": "stdout",
          "text": [
            "Que ano quer analisar? Coloque 0 para analisar o ano atual: 0\n",
            "O ano 2022 NÃO é BISSEXTO\n"
          ]
        }
      ]
    },
    {
      "cell_type": "code",
      "source": [
        "# Exercício 033 - Maior e menor valores \n",
        "v1 = int(input('Digite o primeiro valor :'))\n",
        "v2 = int(input('Digite o segundo valor :'))\n",
        "v3 = int(input('Digite o terceiro valor :'))\n",
        "menor = v1\n",
        "if v2 <v1 and v2 <v3:\n",
        "  menor = v2\n",
        "if v3 <v1 and v3 <v2:\n",
        "  menor = v3\n",
        "print (menor)"
      ],
      "metadata": {
        "colab": {
          "base_uri": "https://localhost:8080/"
        },
        "id": "Vt7qerxk5Wlz",
        "outputId": "71027329-cb7f-4687-afb5-5da53f7573c5"
      },
      "execution_count": null,
      "outputs": [
        {
          "output_type": "stream",
          "name": "stdout",
          "text": [
            "Digite o primeiro valor :6\n",
            "Digite o segundo valor :7\n",
            "Digite o terceiro valor :5\n",
            "5\n"
          ]
        }
      ]
    },
    {
      "cell_type": "code",
      "source": [
        "# ex 036\n",
        "\n",
        "casa = float(input('Valor da casa: R$ '))\n",
        "salário = float (input('Salário do comprador: R$ '))\n",
        "anos = int ( input('Quantos anos de financiamento?'))\n",
        "prestação = casa/(anos*12)\n",
        "print ('R$ {:.2f}'.format(prestação))\n",
        "alocacao = prestação/salário*100\n",
        "print (float(alocacao))"
      ],
      "metadata": {
        "colab": {
          "base_uri": "https://localhost:8080/"
        },
        "id": "depjkhrmNsRn",
        "outputId": "6815e9a8-ddf9-4d5e-f8a9-9b37d1ee6517"
      },
      "execution_count": null,
      "outputs": [
        {
          "output_type": "stream",
          "name": "stdout",
          "text": [
            "Valor da casa: R$ 120000\n",
            "Salário do comprador: R$ 12000\n",
            "Quantos anos de financiamento?10\n",
            "R$ 1000.00\n",
            "8.333333333333332\n"
          ]
        }
      ]
    },
    {
      "cell_type": "markdown",
      "source": [
        "**Condições aninhadas **\n",
        "\n",
        "É basicamente uma coisa dentro da ontra. \n",
        "Estrutura condicional dentro de estrutura condicional \n",
        "\n"
      ],
      "metadata": {
        "id": "qIoV4Hh_dF9D"
      }
    },
    {
      "cell_type": "code",
      "source": [
        "nome = str(input('Qual é o seu nome? '))\n",
        "if nome == 'Pedro':\n",
        "  print ('Que nome bonito!')\n",
        "elif nome == 'João' or nome == 'Maria':\n",
        "  print ('Seu nome é normal no Brasil')\n",
        "elif nome in 'Ana Fabi Mari':\n",
        "  print ('Que nome feminino')\n",
        "else:\n",
        "  print ('Seu nome é normal!')\n",
        "print ('Tenha um bom dia, {}!'.format(nome))"
      ],
      "metadata": {
        "id": "0z7l-s5xdKbV",
        "colab": {
          "base_uri": "https://localhost:8080/"
        },
        "outputId": "5a96c327-4ea2-49b9-be98-c9934887fafc"
      },
      "execution_count": null,
      "outputs": [
        {
          "output_type": "stream",
          "name": "stdout",
          "text": [
            "Qual é o seu nome? Mari\n",
            "Que nome feminino\n",
            "Tenha um bom dia, Mari!\n"
          ]
        }
      ]
    },
    {
      "cell_type": "markdown",
      "source": [
        "`Ex036` - Programa de **financiamento**"
      ],
      "metadata": {
        "id": "I8ilr8oTA3xF"
      }
    },
    {
      "cell_type": "code",
      "source": [
        "imovel = int(input('Qual é o valor total do imóvel? '))\n",
        "renda = int(input('Qual sua renda mensal? '))\n",
        "finanos = int(input('Quantos anos é o financiamento? '))\n",
        "mensalidadecasa = imovel/(finanos*12)\n",
        "porcentrenda = mensalidadecasa/renda*100\n",
        "\n",
        "print ('O valor total do imóvel é R${:.2f} e financiando em {} anos o valor da mensalidade será de R${:.2f}.'.format(imovel,finanos,mensalidadecasa))\n",
        "print('A sua mensal é de R${:.2f}'.format(renda))\n",
        "print('Com essas informações, sabemos que você irá compromoter {:.2f}% da sua renda mensal'.format(porcentrenda))\n",
        "\n",
        "\n",
        "if porcentrenda <= 10:\n",
        "    print('Parabéns, financiamento aprovado')\n",
        "elif porcentrenda > 10:\n",
        "    print('Infelizmente seu financimento não está aprovado')"
      ],
      "metadata": {
        "id": "9nm4pOedA_Ew"
      },
      "execution_count": null,
      "outputs": []
    },
    {
      "cell_type": "code",
      "source": [
        "num=int(input('Digite um número inteiro: '))\n",
        "\n",
        "print ('''Escolha para qual você quer converter: \n",
        "1 - Binário\n",
        "2 - Octal\n",
        "3 - Hexadecimal''')\n",
        "opção = int(input('Sua opção: '))\n",
        "if opção ==1:\n",
        "    print('{} convertido par BINÁrio é igual a {}'.format(num,bin(num)))\n",
        "elif opção == 2:\n",
        "    print('{} convertido para OCTAL é igual a {}'.format(num,oct(num)))\n",
        "elif opção ==3:\n",
        "    print('{} convertido para HEXADECIMAL é igual a {}'.format(num,hex(num)))\n",
        "else:\n",
        "    print('Opção inválida')\n"
      ],
      "metadata": {
        "id": "hax5HMs3BcMD",
        "colab": {
          "base_uri": "https://localhost:8080/"
        },
        "outputId": "2d685306-4ebe-4a27-cdf8-142436c85a23"
      },
      "execution_count": null,
      "outputs": [
        {
          "output_type": "stream",
          "name": "stdout",
          "text": [
            "Digite um número inteiro: 1\n",
            "Escolha para qual você quer converter: \n",
            "1 - Binário\n",
            "2 - Octal\n",
            "3 - Hexadecimal\n",
            "Sua opção: 1\n",
            "1 convertido par BINÁrio é igual a 0b1\n"
          ]
        }
      ]
    },
    {
      "cell_type": "code",
      "source": [],
      "metadata": {
        "id": "ASXn3Ogf1f4f"
      },
      "execution_count": null,
      "outputs": []
    },
    {
      "cell_type": "markdown",
      "source": [
        "ex038 - Escreva dois numero e compare se é maior, menor ou igual"
      ],
      "metadata": {
        "id": "iKi3dLTABcyQ"
      }
    },
    {
      "cell_type": "code",
      "source": [
        "n1=int(input('Digite o primeiro número: '))\n",
        "n2=int(input('Digite o segundo número: '))\n",
        "if n1 > n2:\n",
        "  print('O número {} é maior que {}'.format(n1,n2))\n",
        "elif n2>n1:\n",
        "  print('O número {} é maior que {}'.format(n2,n1))\n",
        "else:\n",
        "  print('Os números são iguais!')"
      ],
      "metadata": {
        "id": "rexYvosyBijS",
        "colab": {
          "base_uri": "https://localhost:8080/"
        },
        "outputId": "7ca3ff34-7a6c-4983-bf5f-32b90304a7c9"
      },
      "execution_count": null,
      "outputs": [
        {
          "output_type": "stream",
          "name": "stdout",
          "text": [
            "Digite o primeiro número: 5\n",
            "Digite o segundo número: 5\n",
            "Os números são iguais!\n"
          ]
        }
      ]
    },
    {
      "cell_type": "markdown",
      "source": [
        "ex039 - Programa para que de acordo com idade, fale sobre o alistamento militar "
      ],
      "metadata": {
        "id": "lrQGZT37BizG"
      }
    },
    {
      "cell_type": "code",
      "source": [
        "datanascimento = int(input('Digite seu ano de nascimento: '))\n",
        "idade = 2022 - datanascimento\n",
        "print(idade)\n",
        "\n",
        "if idade > 18:\n",
        "  print('Você já está atrasado no alistamento, terá problemas')\n",
        "elif idade == 18:\n",
        "  print('Você está no ano do alistamento militar')\n",
        "else:\n",
        "  print('Aproveite, você ainda não precisa se alistar!')"
      ],
      "metadata": {
        "id": "xNd5U0D6B9yC"
      },
      "execution_count": null,
      "outputs": []
    },
    {
      "cell_type": "markdown",
      "source": [
        "ex040 - Programa para calcular média e aprovação"
      ],
      "metadata": {
        "id": "VSjJuqPKB-CR"
      }
    },
    {
      "cell_type": "code",
      "source": [
        "n1 = float(input('Qual foi sua nota na primeira prova? '))\n",
        "n2 = float(input('Qual foi sua nota na segunda prova? '))\n",
        "media = (n1+n2)/2\n",
        "print(media)\n",
        "\n",
        "if media >= 6:\n",
        "  print('Aprovado')\n",
        "elif media <6:\n",
        "  print('recuperação')\n",
        "else:\n",
        "  print('reprovado')\n"
      ],
      "metadata": {
        "id": "-oTAi9eBCDDB"
      },
      "execution_count": null,
      "outputs": []
    },
    {
      "cell_type": "markdown",
      "source": [
        "ex041\n",
        "Até 09 - mirim\n",
        "até 14 - infatil\n",
        "até 19 - junior\n",
        "até 20 - Senior\n",
        "Acima de 20 - master"
      ],
      "metadata": {
        "id": "QNsSZN5WCDK-"
      }
    },
    {
      "cell_type": "code",
      "source": [
        "from datetime import date\n",
        "atual=date.today().year\n",
        "nascimento = int(input('Qual ano de nascimento?'))\n",
        "idade = atual - nascimento\n",
        "if idade <= 9:\n",
        "    print('Mirin')\n",
        "elif idade <= 14:\n",
        "    print('Infantil')\n",
        "elif idade <= 19:\n",
        "    print('Junior')\n",
        "elif idade <= 20:\n",
        "    print('Master')\n",
        "else:\n",
        "    print('Senior')"
      ],
      "metadata": {
        "id": "8nP2vOBJCoRC"
      },
      "execution_count": null,
      "outputs": []
    },
    {
      "cell_type": "markdown",
      "source": [
        "042 - falar se o Triângulo é escaleno, equilatero, escaleno"
      ],
      "metadata": {
        "id": "0kjrThzECobm"
      }
    },
    {
      "cell_type": "code",
      "source": [
        "a = int(input('Digite o lado \"a\" do triângulo: '))\n",
        "b = int(input('Digite o lado \"b\" do triângulo: '))\n",
        "c = int(input('Digite o lado \"c\" do triângulo: '))\n",
        "\n",
        "if a+b>c and b+c>a and a+c>b:\n",
        "    print('É um triangulo ',end='')\n",
        "    if a==b==c:\n",
        "        print('equilátero')\n",
        "    if a != b !=c != a:\n",
        "        print('escaleno')\n",
        "    else:\n",
        "        print('isóceles')\n",
        "\n",
        "else:\n",
        "    print('Não é um triangulo')"
      ],
      "metadata": {
        "id": "XcIY0MPpDD3w"
      },
      "execution_count": null,
      "outputs": []
    },
    {
      "cell_type": "markdown",
      "source": [
        "Ex043 - Calculo do IMC"
      ],
      "metadata": {
        "id": "CbjTgzdwDEA9"
      }
    },
    {
      "cell_type": "code",
      "source": [],
      "metadata": {
        "id": "Wl0I7hYaDGrN"
      },
      "execution_count": null,
      "outputs": []
    },
    {
      "cell_type": "markdown",
      "source": [
        "ex044 - Preço financiamento - desc 10% a vista, a vista sem desc, 2x 10% de juros "
      ],
      "metadata": {
        "id": "4GU3TTE_DG3y"
      }
    },
    {
      "cell_type": "code",
      "source": [],
      "metadata": {
        "id": "_ysu1IRiD572"
      },
      "execution_count": null,
      "outputs": []
    },
    {
      "cell_type": "markdown",
      "source": [
        "ex045 - Jokenpô "
      ],
      "metadata": {
        "id": "CP_A8rZVD6E-"
      }
    },
    {
      "cell_type": "markdown",
      "source": [
        "EX 049 - Tabuada usando while e loop for "
      ],
      "metadata": {
        "id": "tysMQJyOtpC1"
      }
    },
    {
      "cell_type": "code",
      "source": [
        "num = int(input('Digite um número para ver sua tabuada: '))\n",
        "for c in range (1,11):\n",
        "  print ('{} x {:2} = {}'.format(num, c, num*c))"
      ],
      "metadata": {
        "colab": {
          "base_uri": "https://localhost:8080/"
        },
        "id": "rH_lmZwouL10",
        "outputId": "062cc1bd-8903-4cbc-8da5-b8f6f6ee6e93"
      },
      "execution_count": null,
      "outputs": [
        {
          "output_type": "stream",
          "name": "stdout",
          "text": [
            "Digite um número para ver sua tabuada: 5\n",
            "5 x  1 = 5\n",
            "5 x  2 = 10\n",
            "5 x  3 = 15\n",
            "5 x  4 = 20\n",
            "5 x  5 = 25\n",
            "5 x  6 = 30\n",
            "5 x  7 = 35\n",
            "5 x  8 = 40\n",
            "5 x  9 = 45\n",
            "5 x 10 = 50\n"
          ]
        }
      ]
    },
    {
      "cell_type": "markdown",
      "source": [
        "EX 050 - Programa que leia seis números inteiros e mostre a soma apenas daqueles que forem pares. Se o valor digitado for ímpar, desconside-o.\n"
      ],
      "metadata": {
        "id": "1DrdLwSFvIDD"
      }
    },
    {
      "cell_type": "code",
      "source": [
        "soma = 0\n",
        "cont = 0\n",
        "for c in range (1,7):\n",
        "  num=int(input('Digite o {} valor: '.format(c)))\n",
        "  if num % 2 == 0:\n",
        "    soma += num\n",
        "    cont += 1\n",
        "print ('Você informou {} números pares e a soma foi {}'.format(cont,soma))"
      ],
      "metadata": {
        "colab": {
          "base_uri": "https://localhost:8080/"
        },
        "id": "SSWUfZ28xBGB",
        "outputId": "cc5c2e09-cec5-459f-8448-bda862f183ae"
      },
      "execution_count": null,
      "outputs": [
        {
          "output_type": "stream",
          "name": "stdout",
          "text": [
            "Digite o 1 valor: 2\n",
            "Digite o 2 valor: 2\n",
            "Digite o 3 valor: 2\n",
            "Digite o 4 valor: 3\n",
            "Digite o 5 valor: 3\n",
            "Digite o 6 valor: 2\n",
            "Você informou 4 números pares e a soma foi 8\n"
          ]
        }
      ]
    },
    {
      "cell_type": "markdown",
      "source": [
        "EX 051 - Crie uma PA e mostre os 10 primeiros termos "
      ],
      "metadata": {
        "id": "CIoAS6PyzWB6"
      }
    },
    {
      "cell_type": "code",
      "source": [
        "primeiro = int (input('Primeiro termo: '))\n",
        "razão = int ( input('Razão: '))\n",
        "décimo = primeiro + (10-1)*razão\n",
        "for c in range (primeiro,décimo + razão\t,razão):\n",
        "  print ('{} '.format(c), end=' -> ')\n",
        "print ('Acabou')"
      ],
      "metadata": {
        "colab": {
          "base_uri": "https://localhost:8080/"
        },
        "id": "QmS8uUK_0kgu",
        "outputId": "71c31841-4d79-4b55-b199-2bd4dd1cd7c5"
      },
      "execution_count": null,
      "outputs": [
        {
          "output_type": "stream",
          "name": "stdout",
          "text": [
            "Primeiro termo: 25\n",
            "Razão: 5\n",
            "25  -> 30  -> 35  -> 40  -> 45  -> 50  -> 55  -> 60  -> 65  -> 70  -> Acabou\n"
          ]
        }
      ]
    },
    {
      "cell_type": "markdown",
      "source": [
        "Ex 052 - "
      ],
      "metadata": {
        "id": "LPWr8ViRybR5"
      }
    },
    {
      "cell_type": "code",
      "source": [
        "num=int(input('Digite um número: '))\n",
        "tot = 0\n",
        "for c in range (1,num+1):\n",
        "  if num % c == 0:\n",
        "    print ('\\033[034m',end='')\n",
        "    tot += 1\n",
        "  else:\n",
        "    print('\\033[033m',end='')\n",
        "  print ('{} '.format(c), end='')\n",
        "print ('\\n\\033[mO número {} foi divisível {} vezes'.format(num,tot))\n",
        "if tot == 2:\n",
        "  print('E por isso ele É PRIMO!')\n",
        "else:\n",
        "  print('E por isso ele NÃO É PRIMO!')"
      ],
      "metadata": {
        "colab": {
          "base_uri": "https://localhost:8080/"
        },
        "id": "20k7FUKHOGY3",
        "outputId": "cbccc291-d9e9-40da-abdd-c71853c5b8dd"
      },
      "execution_count": null,
      "outputs": [
        {
          "output_type": "stream",
          "name": "stdout",
          "text": [
            "Digite um número: 71\n",
            "\u001b[034m1 \u001b[033m2 \u001b[033m3 \u001b[033m4 \u001b[033m5 \u001b[033m6 \u001b[033m7 \u001b[033m8 \u001b[033m9 \u001b[033m10 \u001b[033m11 \u001b[033m12 \u001b[033m13 \u001b[033m14 \u001b[033m15 \u001b[033m16 \u001b[033m17 \u001b[033m18 \u001b[033m19 \u001b[033m20 \u001b[033m21 \u001b[033m22 \u001b[033m23 \u001b[033m24 \u001b[033m25 \u001b[033m26 \u001b[033m27 \u001b[033m28 \u001b[033m29 \u001b[033m30 \u001b[033m31 \u001b[033m32 \u001b[033m33 \u001b[033m34 \u001b[033m35 \u001b[033m36 \u001b[033m37 \u001b[033m38 \u001b[033m39 \u001b[033m40 \u001b[033m41 \u001b[033m42 \u001b[033m43 \u001b[033m44 \u001b[033m45 \u001b[033m46 \u001b[033m47 \u001b[033m48 \u001b[033m49 \u001b[033m50 \u001b[033m51 \u001b[033m52 \u001b[033m53 \u001b[033m54 \u001b[033m55 \u001b[033m56 \u001b[033m57 \u001b[033m58 \u001b[033m59 \u001b[033m60 \u001b[033m61 \u001b[033m62 \u001b[033m63 \u001b[033m64 \u001b[033m65 \u001b[033m66 \u001b[033m67 \u001b[033m68 \u001b[033m69 \u001b[033m70 \u001b[034m71 \n",
            "\u001b[mO número 71 foi divisível 2 vezes\n",
            "E por isso ele É PRIMO!\n"
          ]
        }
      ]
    },
    {
      "cell_type": "markdown",
      "source": [
        "Ex 53 - Digite uma frase e veja se é um palíndromo"
      ],
      "metadata": {
        "id": "Cg3cuFPWTK2d"
      }
    },
    {
      "cell_type": "code",
      "source": [
        "frase = str(input('Digite uma frase: ')).strip().upper()\n",
        "palavras=frase.split()\n",
        "junto=''.join(palavras)\n",
        "inverso=''\n",
        "for letra in range(len(junto)-1,-1,-1):\n",
        "  inverso += junto [letra]\n",
        "print ('O Inverso de {} é {}'.format(junto,inverso))\n",
        "if inverso == junto: \n",
        "  print('Temos um palíndromo!')\n",
        "else:\n",
        "  print('A frase digitada não é um palíndromo!')"
      ],
      "metadata": {
        "id": "Y0vBcxpCTUm7",
        "colab": {
          "base_uri": "https://localhost:8080/"
        },
        "outputId": "ddbaaf0a-d89c-4377-a10e-bf3209d64f1e"
      },
      "execution_count": null,
      "outputs": [
        {
          "output_type": "stream",
          "name": "stdout",
          "text": [
            "Digite uma frase: bacon\n",
            "O Inverso de BACON é NOCAB\n",
            "A frase digitada não é um palíndromo!\n"
          ]
        }
      ]
    },
    {
      "cell_type": "markdown",
      "source": [
        "Ex54"
      ],
      "metadata": {
        "id": "LkAYS1bEoKWK"
      }
    },
    {
      "cell_type": "code",
      "source": [
        "from datetime import date\n",
        "atual = date.today().year\n",
        "totmaior = 0\n",
        "totmenor = 0\n",
        "for pess in range(1,8):\n",
        "  nasc = int ( input ('Em que ano a pessoa nasceu? '))\n",
        "  idade = atual - nasc\n",
        "  if idade >= 21:\n",
        "    totmaior += 1\n",
        "  else:\n",
        "    totmenor += 1\n",
        "print('Ao todo tivemos {} pessoas maiores de idade'.format(totmaior))\n",
        "print('E também tivemos {} pessoas menores de idade'.format(totmenor))\n"
      ],
      "metadata": {
        "colab": {
          "base_uri": "https://localhost:8080/"
        },
        "id": "TgatK7OhoMj-",
        "outputId": "e926fb0d-bcc7-459e-933f-ae937c014c65"
      },
      "execution_count": null,
      "outputs": [
        {
          "output_type": "stream",
          "name": "stdout",
          "text": [
            "Em que ano a pessoa nasceu? 2000\n",
            "Em que ano a pessoa nasceu? 2000\n",
            "Em que ano a pessoa nasceu? 2000\n",
            "Em que ano a pessoa nasceu? 2000\n",
            "Em que ano a pessoa nasceu? 2010\n",
            "Em que ano a pessoa nasceu? 2010\n",
            "Em que ano a pessoa nasceu? 2010\n",
            "Ao todo tivemos 4 pessoas maiores de idade\n",
            "E também tivemos 3 pessoas menores de idade\n"
          ]
        }
      ]
    },
    {
      "cell_type": "markdown",
      "source": [
        "Ex 55"
      ],
      "metadata": {
        "id": "8NXdebcN8Hwh"
      }
    },
    {
      "cell_type": "code",
      "source": [
        "maior = 0\n",
        "menor = 0\n",
        "for p in range (1,6):\n",
        "  peso = float(input('Peso da {} pessoa:'.format(p)))\n",
        "  if p == 1:\n",
        "    maior = peso\n",
        "    menor = peso\n",
        "  else:\n",
        "    if peso>maior:\n",
        "      maior = peso\n",
        "    if peso<menor:\n",
        "      menor=peso\n",
        "print('O maior peso lido foi de {}kg'.format(maior))\n",
        "print('O menor peso lido foi de {}kg'.format(menor))\n"
      ],
      "metadata": {
        "colab": {
          "base_uri": "https://localhost:8080/"
        },
        "id": "zSomcHbI8JRj",
        "outputId": "135834e8-7515-4171-fbeb-fad76a000b33"
      },
      "execution_count": null,
      "outputs": [
        {
          "output_type": "stream",
          "name": "stdout",
          "text": [
            "Peso da 1 pessoa:55\n",
            "Peso da 2 pessoa:40\n",
            "Peso da 3 pessoa:30\n",
            "Peso da 4 pessoa:70\n",
            "Peso da 5 pessoa:80\n",
            "O maior peso lido foi de 80.0kg\n",
            "O menor peso lido foi de 30.0kg\n"
          ]
        }
      ]
    },
    {
      "cell_type": "markdown",
      "source": [],
      "metadata": {
        "id": "M24eLo1tz9Df"
      }
    },
    {
      "cell_type": "markdown",
      "source": [
        "Aula 14 - WHILE - Estrutura de repetição"
      ],
      "metadata": {
        "id": "SCayGIHs0A_w"
      }
    },
    {
      "cell_type": "markdown",
      "source": [
        "ex 57 - Validação de dados"
      ],
      "metadata": {
        "id": "_r1981FV4eX_"
      }
    },
    {
      "cell_type": "code",
      "source": [
        "sexo = str(input('Informe seu sexo: [M/F] ')).strip().upper()[0]\n",
        "while sexo not in 'MmFf':\n",
        "  sexo = str(input('Dados inválidos, por favor informe seu sexo novamente: ')).strip().upper()[0]\n",
        "print ('Sexo {} registrado com sucesso'.format(sexo))"
      ],
      "metadata": {
        "colab": {
          "base_uri": "https://localhost:8080/"
        },
        "id": "PnY1QBef0EqQ",
        "outputId": "d3baac01-e191-4675-e926-0f437803d3ab"
      },
      "execution_count": null,
      "outputs": [
        {
          "output_type": "stream",
          "name": "stdout",
          "text": [
            "Informe seu sexo: [M/F] dasd\n",
            "Dados inválidos, por favor informe seu sexo novamente: ada\n",
            "Dados inválidos, por favor informe seu sexo novamente: m\n",
            "Sexo M registrado com sucesso\n"
          ]
        }
      ]
    },
    {
      "cell_type": "markdown",
      "source": [
        "Ex 58"
      ],
      "metadata": {
        "id": "gpQzjcvzy2nM"
      }
    },
    {
      "cell_type": "code",
      "source": [
        "from random import randint\n",
        "computador = randint (0,10)\n",
        "print('Sou seu computadaor ... acabei de pensar em um número entre 0 e 10.')\n",
        "print('Será que você consegue adivinhar qual foi? ')\n",
        "acertou = False\n",
        "palpite = 0\n",
        "while not acertou:\n",
        "  jogador = int (input('Qual é o seu palpite? '))\n",
        "  palpite += 1\n",
        "  if jogador == computador:\n",
        "    acertou = True\n",
        "  else:\n",
        "    if jogador < computador:\n",
        "      print('Mais...Tente mais uma vez.')\n",
        "    elif jogador > computador: \n",
        "      print('Menos... Tente mais uma vez')\n",
        "print('Acertou! Com {} palpites'.format(palpite))"
      ],
      "metadata": {
        "colab": {
          "base_uri": "https://localhost:8080/"
        },
        "id": "BarA4HzTy5tp",
        "outputId": "7e349b22-1705-4ef2-c03f-ea8609df4673"
      },
      "execution_count": 3,
      "outputs": [
        {
          "output_type": "stream",
          "name": "stdout",
          "text": [
            "Sou seu computadaor ... acabei de pensar em um número entre 0 e 10.\n",
            "Será que você consegue adivinhar qual foi? \n",
            "Qual é o seu palpite? 1\n",
            "Mais...Tente mais uma vez.\n",
            "Qual é o seu palpite? 2\n",
            "Mais...Tente mais uma vez.\n",
            "Qual é o seu palpite? 3\n",
            "Mais...Tente mais uma vez.\n",
            "Qual é o seu palpite? 10\n",
            "Menos... Tente mais uma vez\n",
            "Qual é o seu palpite? 6\n",
            "Mais...Tente mais uma vez.\n",
            "Qual é o seu palpite? 7\n",
            "Mais...Tente mais uma vez.\n",
            "Qual é o seu palpite? 8\n",
            "Acertou! Com 7 palpites\n"
          ]
        }
      ]
    }
  ]
}